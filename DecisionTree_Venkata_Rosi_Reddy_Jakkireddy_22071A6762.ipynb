{
  "nbformat": 4,
  "nbformat_minor": 0,
  "metadata": {
    "colab": {
      "provenance": []
    },
    "kernelspec": {
      "name": "python3",
      "display_name": "Python 3"
    },
    "language_info": {
      "name": "python"
    }
  },
  "cells": [
    {
      "cell_type": "code",
      "source": [
        "import pandas as pd\n",
        "import numpy as np\n",
        "from sklearn.model_selection import train_test_split\n",
        "from sklearn.preprocessing import LabelEncoder\n",
        "from collections import Counter\n",
        "from math import log2"
      ],
      "metadata": {
        "id": "6JBKir5BK_Jf"
      },
      "execution_count": 11,
      "outputs": []
    },
    {
      "cell_type": "code",
      "source": [
        "data = pd.read_csv('adult.data.csv', header=None)\n",
        "columns = ['age', 'workclass', 'fnlwgt', 'education', 'education-num',\n",
        "           'marital-status', 'occupation', 'relationship', 'race',\n",
        "           'sex', 'capital-gain', 'capital-loss', 'hours-per-week',\n",
        "           'native-country', 'salary']\n",
        "data.columns = columns"
      ],
      "metadata": {
        "id": "gfv4CE4BLWfl"
      },
      "execution_count": 12,
      "outputs": []
    },
    {
      "cell_type": "code",
      "source": [
        "label_encoders = {}\n",
        "for col in data.select_dtypes(include=['object']).columns:\n",
        "    le = LabelEncoder()\n",
        "    data[col] = le.fit_transform(data[col])\n",
        "    label_encoders[col] = le\n"
      ],
      "metadata": {
        "id": "UbUl_FUPLfHG"
      },
      "execution_count": 13,
      "outputs": []
    },
    {
      "cell_type": "code",
      "source": [
        "def entropy(y):\n",
        "    counts = Counter(y)\n",
        "    total = len(y)\n",
        "    return -sum((count / total) * log2(count / total) for count in counts.values())\n"
      ],
      "metadata": {
        "id": "Qf9NRw4TLhZY"
      },
      "execution_count": 14,
      "outputs": []
    },
    {
      "cell_type": "code",
      "source": [
        "def information_gain(data, feature, target):\n",
        "    total_entropy = entropy(data[target])\n",
        "    values, counts = np.unique(data[feature], return_counts=True)\n",
        "    weighted_entropy = sum(\n",
        "        (counts[i] / sum(counts)) * entropy(data[data[feature] == values[i]][target])\n",
        "        for i in range(len(values))\n",
        "    )\n",
        "    return total_entropy - weighted_entropy\n"
      ],
      "metadata": {
        "id": "JP5znFcZLkZk"
      },
      "execution_count": 15,
      "outputs": []
    },
    {
      "cell_type": "code",
      "source": [
        "target = 'salary'\n",
        "info_gains = {}\n",
        "for feature in data.columns[:-1]:  # Exclude the target variable\n",
        "    info_gains[feature] = information_gain(data, feature, target)"
      ],
      "metadata": {
        "id": "qUl3s_OuLmlC"
      },
      "execution_count": 17,
      "outputs": []
    },
    {
      "cell_type": "code",
      "source": [
        "sorted_info_gains = sorted(info_gains.items(), key=lambda x: x[1], reverse=True)\n",
        "best_split = sorted_info_gains[0]\n",
        "second_best_split = sorted_info_gains[1]\n",
        "\n",
        "print(f\"Best split: {best_split}\")\n",
        "print(f\"Second-best split: {second_best_split}\")"
      ],
      "metadata": {
        "colab": {
          "base_uri": "https://localhost:8080/"
        },
        "id": "HnwlJu44Lxxt",
        "outputId": "2c3a60ca-a383-4553-9539-6a9f6390dcc4"
      },
      "execution_count": 18,
      "outputs": [
        {
          "output_type": "stream",
          "name": "stdout",
          "text": [
            "Best split: ('fnlwgt', 0.56849716589775)\n",
            "Second-best split: ('relationship', 0.16586536515994932)\n"
          ]
        }
      ]
    }
  ]
}